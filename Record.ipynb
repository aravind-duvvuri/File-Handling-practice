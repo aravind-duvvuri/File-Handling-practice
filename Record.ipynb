{
 "cells": [
  {
   "cell_type": "code",
   "execution_count": 2,
   "metadata": {},
   "outputs": [
    {
     "name": "stdout",
     "output_type": "stream",
     "text": [
      "Enter your name: Aravind Duvvuri\n",
      "Enter roll no: 7829\n",
      "English marks: 98\n",
      "Hindi marks: 98\n",
      "Math marks: 100\n",
      "Science marks: 100\n",
      "Data Recorded in text file\n"
     ]
    }
   ],
   "source": [
    "fd = open(\"Record.txt\", \"a\")\n",
    "\n",
    "\n",
    "name = input(\"Enter your name: \")\n",
    "roll = int(input(\"Enter roll no: \"))\n",
    "eng = int(input(\"English marks: \"))\n",
    "hin = int(input(\"Hindi marks: \"))\n",
    "math = int(input(\"Math marks: \"))\n",
    "sci = int(input(\"Science marks: \"))\n",
    "\n",
    "data = name + \",\" + str(roll) + \",\" + str(eng) + \",\" + str(hin) + \",\" + str(math) + \",\" + str(sci) + \"\\n\"\n",
    "\n",
    "\n",
    "fd.write(data)\n",
    "\n",
    "fd.close()\n",
    "\n",
    "print(\"Data Recorded in text file\")"
   ]
  },
  {
   "cell_type": "code",
   "execution_count": null,
   "metadata": {},
   "outputs": [],
   "source": []
  }
 ],
 "metadata": {
  "kernelspec": {
   "display_name": "Python 3 (ipykernel)",
   "language": "python",
   "name": "python3"
  },
  "language_info": {
   "codemirror_mode": {
    "name": "ipython",
    "version": 3
   },
   "file_extension": ".py",
   "mimetype": "text/x-python",
   "name": "python",
   "nbconvert_exporter": "python",
   "pygments_lexer": "ipython3",
   "version": "3.10.9"
  }
 },
 "nbformat": 4,
 "nbformat_minor": 2
}
